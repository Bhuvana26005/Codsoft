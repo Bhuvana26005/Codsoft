{
  "nbformat": 4,
  "nbformat_minor": 0,
  "metadata": {
    "colab": {
      "provenance": [],
      "authorship_tag": "ABX9TyPBHlnzInerBIvYGnANw5DC",
      "include_colab_link": true
    },
    "kernelspec": {
      "name": "python3",
      "display_name": "Python 3"
    },
    "language_info": {
      "name": "python"
    }
  },
  "cells": [
    {
      "cell_type": "markdown",
      "metadata": {
        "id": "view-in-github",
        "colab_type": "text"
      },
      "source": [
        "<a href=\"https://colab.research.google.com/github/Bhuvana26005/Codsoft/blob/main/TASK_2.ipynb\" target=\"_parent\"><img src=\"https://colab.research.google.com/assets/colab-badge.svg\" alt=\"Open In Colab\"/></a>"
      ]
    },
    {
      "cell_type": "code",
      "execution_count": null,
      "metadata": {
        "colab": {
          "base_uri": "https://localhost:8080/"
        },
        "id": "fNovw10bWSR9",
        "outputId": "89d6d5d0-29d2-4f73-9694-0dfc9c6a8d34"
      },
      "outputs": [
        {
          "output_type": "stream",
          "name": "stdout",
          "text": [
            "Recommended movies for 'Movie1':\n",
            "2    Movie3\n",
            "1    Movie2\n",
            "3    Movie4\n",
            "Name: Movie, dtype: object\n"
          ]
        }
      ],
      "source": [
        "import pandas as pd\n",
        "from sklearn.metrics.pairwise import cosine_similarity\n",
        "from sklearn.feature_extraction.text import TfidfVectorizer\n",
        "\n",
        "data = {\n",
        "    'Movie': ['Movie1', 'Movie2', 'Movie3', 'Movie4'],\n",
        "    'Genre': ['Action', 'Drama', 'Action|Drama', 'Comedy']\n",
        "}\n",
        "\n",
        "df = pd.DataFrame(data)\n",
        "\n",
        "tfidf_vectorizer = TfidfVectorizer(stop_words='english')\n",
        "tfidf_matrix = tfidf_vectorizer.fit_transform(df['Genre'])\n",
        "\n",
        "\n",
        "cosine_sim = cosine_similarity(tfidf_matrix, tfidf_matrix)\n",
        "\n",
        "def recommend_movies(movie_title, cosine_sim=cosine_sim, df=df):\n",
        "    idx = df[df['Movie'] == movie_title].index[0]\n",
        "\n",
        "    sim_scores = list(enumerate(cosine_sim[idx]))\n",
        "\n",
        "    sim_scores = sorted(sim_scores, key=lambda x: x[1], reverse=True)\n",
        "\n",
        "    sim_scores = sim_scores[1:6]\n",
        "\n",
        "    movie_indices = [score[0] for score in sim_scores]\n",
        "\n",
        "\n",
        "    return df['Movie'].iloc[movie_indices]\n",
        "\n",
        "\n",
        "movie_title = 'Movie1'\n",
        "recommendations = recommend_movies(movie_title)\n",
        "print(f\"Recommended movies for '{movie_title}':\")\n",
        "print(recommendations)\n"
      ]
    }
  ]
}