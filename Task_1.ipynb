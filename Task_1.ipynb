{
  "cells": [
    {
      "cell_type": "markdown",
      "metadata": {
        "id": "view-in-github",
        "colab_type": "text"
      },
      "source": [
        "<a href=\"https://colab.research.google.com/github/Bhuvana26005/Codsoft/blob/main/Task_1.ipynb\" target=\"_parent\"><img src=\"https://colab.research.google.com/assets/colab-badge.svg\" alt=\"Open In Colab\"/></a>"
      ]
    },
    {
      "cell_type": "code",
      "execution_count": null,
      "metadata": {
        "colab": {
          "background_save": true,
          "base_uri": "https://localhost:8080/"
        },
        "id": "HrYh30b7Ub5n",
        "outputId": "1172ca59-193f-498e-c3eb-b08ca8d67964"
      },
      "outputs": [
        {
          "name": "stdout",
          "output_type": "stream",
          "text": [
            "Chatbot: Hello! How can I help you?\n",
            "Chatbot: I am a simple chatbot.\n",
            "Chatbot: I do not have an age. I am just a program.\n",
            "Chatbot: I'm sorry, I don't understand that. Can you please rephrase?\n"
          ]
        }
      ],
      "source": [
        "import re\n",
        "\n",
        "def simple_chatbot(user_input):\n",
        "    # Define rules and responses\n",
        "    rules = {\n",
        "        r'(hello|hi|hey)\\b': 'Hello! How can I help you?',\n",
        "        r'(\\bbye\\b|\\bgoodbye\\b)': 'Goodbye! Have a great day!',\n",
        "        r'\\bhow are you\\b': 'I am just a bot, but thanks for asking!',\n",
        "        r'\\bname\\b': 'I am a simple chatbot.',\n",
        "        r'\\b(age|old)\\b': 'I do not have an age. I am just a program.'\n",
        "    }\n",
        "\n",
        "    # Check user input against rules\n",
        "    for pattern, response in rules.items():\n",
        "        if re.search(pattern, user_input, re.IGNORECASE):\n",
        "            return response\n",
        "\n",
        "    # Default response if no match is found\n",
        "    return \"I'm sorry, I don't understand that. Can you please rephrase?\"\n",
        "\n",
        "# Simple interactive loop\n",
        "while True:\n",
        "    user_input = input(\"You: \")\n",
        "    if user_input.lower() in ['exit', 'quit', 'bye']:\n",
        "        print(\"Chatbot: Goodbye!\")\n",
        "        break\n",
        "    response = simple_chatbot(user_input)\n",
        "    print(\"Chatbot:\", response)\n"
      ]
    }
  ],
  "metadata": {
    "colab": {
      "provenance": [],
      "authorship_tag": "ABX9TyN+WLCfF9akYqxnvpKupI7x",
      "include_colab_link": true
    },
    "kernelspec": {
      "display_name": "Python 3",
      "name": "python3"
    },
    "language_info": {
      "name": "python"
    }
  },
  "nbformat": 4,
  "nbformat_minor": 0
}